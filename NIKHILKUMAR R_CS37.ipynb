{
 "cells": [
  {
   "cell_type": "markdown",
   "id": "baaa84a2",
   "metadata": {},
   "source": [
    "### 1. Write the output of the following\n",
    "\n",
    "k=[‘a’,’b’,’c’,’d’,’e’]\n",
    "\n",
    "print(k[-1:-7:-1])\n"
   ]
  },
  {
   "cell_type": "code",
   "execution_count": 1,
   "id": "343110ac",
   "metadata": {},
   "outputs": [
    {
     "name": "stdout",
     "output_type": "stream",
     "text": [
      "['e', 'd', 'c', 'b', 'a']\n"
     ]
    }
   ],
   "source": [
    "k = ['a', 'b', 'c', 'd', 'e']\n",
    "print(k[-1:-7:-1])"
   ]
  },
  {
   "cell_type": "markdown",
   "id": "481aadb8",
   "metadata": {},
   "source": [
    "### 2. Reverse a list using Python\n",
    "list1 = [100, 200, 300, 400, 500]\n"
   ]
  },
  {
   "cell_type": "code",
   "execution_count": 2,
   "id": "d86b4907",
   "metadata": {},
   "outputs": [
    {
     "name": "stdout",
     "output_type": "stream",
     "text": [
      "[500, 400, 300, 200, 100]\n"
     ]
    }
   ],
   "source": [
    "list1 = [100, 200, 300, 400, 500]\n",
    "reversed_list = reversed(list1)\n",
    "print(list(reversed_list))\n"
   ]
  },
  {
   "cell_type": "markdown",
   "id": "354b8439",
   "metadata": {},
   "source": [
    "### 3. Given two numbers, write a python code to find the maximum of these two numbers.\n",
    "Sample input: a=2, b=4"
   ]
  },
  {
   "cell_type": "code",
   "execution_count": 7,
   "id": "b1103207",
   "metadata": {},
   "outputs": [
    {
     "name": "stdout",
     "output_type": "stream",
     "text": [
      "4\n"
     ]
    }
   ],
   "source": [
    "a = 2\n",
    "b = 4\n",
    "\n",
    "if a > b:\n",
    " maximum = a\n",
    "else:\n",
    "  maximum = b\n",
    "\n",
    "print(maximum)  \n"
   ]
  },
  {
   "cell_type": "markdown",
   "id": "195de77a",
   "metadata": {},
   "source": [
    "### 4. Write a python program to find the square of 5. "
   ]
  },
  {
   "cell_type": "code",
   "execution_count": 8,
   "id": "9fc63da6",
   "metadata": {},
   "outputs": [
    {
     "name": "stdout",
     "output_type": "stream",
     "text": [
      "25\n"
     ]
    }
   ],
   "source": [
    "x = 5\n",
    "x_squared = x * x\n",
    "print(x_squared)\n"
   ]
  },
  {
   "cell_type": "markdown",
   "id": "888a5f53",
   "metadata": {},
   "source": [
    "### 5. Write a python program to find the sum of all items in a dictionary\n",
    "Input : {‘a’: 100, ‘b’:200, ‘c’:300}"
   ]
  },
  {
   "cell_type": "code",
   "execution_count": 9,
   "id": "a1daee56",
   "metadata": {},
   "outputs": [
    {
     "name": "stdout",
     "output_type": "stream",
     "text": [
      "600\n"
     ]
    }
   ],
   "source": [
    "my_dict = {'a': 100, 'b': 200, 'c': 300}\n",
    "dict_sum = 0\n",
    "for key, value in my_dict.items():\n",
    "  dict_sum += value\n",
    "print(dict_sum)\n"
   ]
  },
  {
   "cell_type": "markdown",
   "id": "c261f9ef",
   "metadata": {},
   "source": [
    "### 6. Write a python program to print the current year, month and day."
   ]
  },
  {
   "cell_type": "code",
   "execution_count": 10,
   "id": "79dd9cb7",
   "metadata": {},
   "outputs": [
    {
     "name": "stdout",
     "output_type": "stream",
     "text": [
      "The current date is 2022-12-12\n"
     ]
    }
   ],
   "source": [
    "import datetime\n",
    "now = datetime.datetime.now()\n",
    "print(f\"The current date is {now.year}-{now.month}-{now.day}\")\n"
   ]
  },
  {
   "cell_type": "markdown",
   "id": "268d7404",
   "metadata": {},
   "source": [
    "# 7. Write a Python program to construct the following pattern, using a nested for loop.\n",
    "\n",
    "*\n",
    "**\n",
    "***\n",
    "****\n",
    "***\n",
    "**\n",
    "*\n"
   ]
  },
  {
   "cell_type": "code",
   "execution_count": 11,
   "id": "0af1d2e4",
   "metadata": {},
   "outputs": [
    {
     "name": "stdout",
     "output_type": "stream",
     "text": [
      "*\n",
      "**\n",
      "***\n",
      "****\n",
      "*****\n",
      "****\n",
      "***\n",
      "**\n",
      "*\n"
     ]
    }
   ],
   "source": [
    "num_rows = 9\n",
    "for i in range(num_rows):\n",
    "  if i < num_rows // 2:\n",
    "    print(\"*\" * (i + 1))\n",
    "  else:\n",
    "    print(\"*\" * (num_rows - i))\n",
    "\n"
   ]
  },
  {
   "cell_type": "markdown",
   "id": "dca96944",
   "metadata": {},
   "source": [
    "### 8. Write a python function to calculate the factorial of a number (a non negative integer). The function accepts the number as an argument.\n",
    "Sample input: 3, Sample output: 6\n"
   ]
  },
  {
   "cell_type": "code",
   "execution_count": 13,
   "id": "6a869148",
   "metadata": {},
   "outputs": [
    {
     "name": "stdout",
     "output_type": "stream",
     "text": [
      "6\n"
     ]
    }
   ],
   "source": [
    "def factorial(n: int) -> int:\n",
    "  if n == 0 or n == 1:\n",
    "    return 1\n",
    "  result = 1\n",
    "  for i in range(1, n+1):\n",
    "    result *= i\n",
    "  return result\n",
    "result = factorial(3)\n",
    "print(result)\n"
   ]
  },
  {
   "cell_type": "markdown",
   "id": "bb1f2518",
   "metadata": {},
   "source": [
    "### 9. Display all duplicate items from a list given:\n",
    "10, 20, 60, 30, 20, 40, 30, 60, 70, 80 "
   ]
  },
  {
   "cell_type": "code",
   "execution_count": 15,
   "id": "60ac1aa4",
   "metadata": {},
   "outputs": [
    {
     "name": "stdout",
     "output_type": "stream",
     "text": [
      "{20, 60, 30}\n"
     ]
    }
   ],
   "source": [
    "numbers = [10, 20, 60, 30, 20, 40, 30, 60, 70, 80]\n",
    "duplicates = set()\n",
    "for num in numbers:\n",
    "    if numbers.count(num) > 1:\n",
    "        duplicates.add(num)\n",
    "print(duplicates)\n"
   ]
  },
  {
   "cell_type": "markdown",
   "id": "156d1a32",
   "metadata": {},
   "source": [
    "###  10. Write a program to accept a string from the user and display characters that are present at an even index number.\n"
   ]
  },
  {
   "cell_type": "code",
   "execution_count": 17,
   "id": "0518169d",
   "metadata": {},
   "outputs": [
    {
     "name": "stdout",
     "output_type": "stream",
     "text": [
      "Enter a string: NIKHILKUMAR\n",
      "NKIKMR\n"
     ]
    }
   ],
   "source": [
    "string = input(\"Enter a string: \")\n",
    "even_chars = \"\"\n",
    "for i, char in enumerate(string):\n",
    "    if i % 2 == 0:\n",
    "     even_chars += char\n",
    "print(even_chars)\n"
   ]
  },
  {
   "cell_type": "markdown",
   "id": "1c8cbc21",
   "metadata": {},
   "source": [
    "### 11. Modify the element of a nested list inside the following list:\n",
    "Sample input : list1 = [5, [10, 15, [20, 25, [30, 35], 40], 45], 50]\n",
    "\n",
    "Change the element 35 to 3500 "
   ]
  },
  {
   "cell_type": "code",
   "execution_count": 18,
   "id": "41aab138",
   "metadata": {},
   "outputs": [
    {
     "name": "stdout",
     "output_type": "stream",
     "text": [
      "[5, [10, 15, [20, 25, [30, 3500], 40], 45], 50]\n"
     ]
    }
   ],
   "source": [
    "list1 = [5, [10, 15, [20, 25, [30, 35], 40], 45], 50]\n",
    "for i in range(len(list1)):\n",
    "  if isinstance(list1[i], list):\n",
    "    for j in range(len(list1[i])):\n",
    "      if isinstance(list1[i][j], list):\n",
    "        for k in range(len(list1[i][j])):\n",
    "          if isinstance(list1[i][j][k], list):\n",
    "            for l in range(len(list1[i][j][k])):\n",
    "              if list1[i][j][k][l] == 35:\n",
    "                list1[i][j][k][l] = 3500\n",
    "                break\n",
    "\n",
    "print(list1)  \n"
   ]
  },
  {
   "cell_type": "code",
   "execution_count": null,
   "id": "f547fdef",
   "metadata": {},
   "outputs": [],
   "source": []
  }
 ],
 "metadata": {
  "kernelspec": {
   "display_name": "Python 3 (ipykernel)",
   "language": "python",
   "name": "python3"
  },
  "language_info": {
   "codemirror_mode": {
    "name": "ipython",
    "version": 3
   },
   "file_extension": ".py",
   "mimetype": "text/x-python",
   "name": "python",
   "nbconvert_exporter": "python",
   "pygments_lexer": "ipython3",
   "version": "3.9.13"
  }
 },
 "nbformat": 4,
 "nbformat_minor": 5
}
